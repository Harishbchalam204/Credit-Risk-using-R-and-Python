{
  "nbformat": 4,
  "nbformat_minor": 0,
  "metadata": {
    "colab": {
      "provenance": [],
      "authorship_tag": "ABX9TyNSsJAF9K+ht0hVQTR+5mZM",
      "include_colab_link": true
    },
    "kernelspec": {
      "name": "python3",
      "display_name": "Python 3"
    },
    "language_info": {
      "name": "python"
    }
  },
  "cells": [
    {
      "cell_type": "markdown",
      "metadata": {
        "id": "view-in-github",
        "colab_type": "text"
      },
      "source": [
        "<a href=\"https://colab.research.google.com/github/Harishbchalam204/Credit-Risk-using-R-and-Python/blob/master/NetflixCaseStudy.ipynb\" target=\"_parent\"><img src=\"https://colab.research.google.com/assets/colab-badge.svg\" alt=\"Open In Colab\"/></a>"
      ]
    },
    {
      "cell_type": "code",
      "execution_count": 1,
      "metadata": {
        "colab": {
          "base_uri": "https://localhost:8080/"
        },
        "id": "jYRvpEK3vWjP",
        "outputId": "4e1a7d10-8199-4ef8-fd86-b01feb9c3e3d"
      },
      "outputs": [
        {
          "output_type": "stream",
          "name": "stdout",
          "text": [
            "Mounted at /content/drive\n"
          ]
        }
      ],
      "source": [
        "'Connecting google colab with google drive'\n",
        "from google.colab import drive\n",
        "drive.mount('/content/drive')\n"
      ]
    },
    {
      "cell_type": "code",
      "source": [
        "'''Importing requried libraries '''\n",
        "import pandas as pd\n",
        "import numpy as np\n",
        "path='/content/drive/MyDrive/Netflix.xlsx'\n",
        "df=pd.read_excel(path)"
      ],
      "metadata": {
        "id": "_bTKiFWMztz0"
      },
      "execution_count": 2,
      "outputs": []
    },
    {
      "cell_type": "code",
      "source": [
        "print(df.head(1))"
      ],
      "metadata": {
        "colab": {
          "base_uri": "https://localhost:8080/"
        },
        "id": "2svQyF5HOADs",
        "outputId": "ecac8d43-c65f-41e0-a199-df9a76533770"
      },
      "execution_count": 7,
      "outputs": [
        {
          "output_type": "stream",
          "name": "stdout",
          "text": [
            "  show_id   type                 title         director cast        country  \\\n",
            "0      s1  Movie  Dick Johnson Is Dead  Kirsten Johnson  NaN  United States   \n",
            "\n",
            "           date_added  release_year rating duration      listed_in  \\\n",
            "0  September 25, 2021          2020  PG-13   90 min  Documentaries   \n",
            "\n",
            "                                         description  \n",
            "0  As her father nears the end of his life, filmm...  \n"
          ]
        }
      ]
    },
    {
      "cell_type": "code",
      "source": [],
      "metadata": {
        "id": "vbxuRnQROSs1"
      },
      "execution_count": null,
      "outputs": []
    }
  ]
}